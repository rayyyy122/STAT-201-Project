{
 "cells": [
  {
   "cell_type": "markdown",
   "id": "46e1c220-6c0a-429e-a372-002ee06c00ba",
   "metadata": {},
   "source": [
    "# STAT 201 Project of "
   ]
  },
  {
   "cell_type": "markdown",
   "id": "2a32bb8f-0ce0-4002-9d7e-405b050a04af",
   "metadata": {},
   "source": [
    "Group 11"
   ]
  },
  {
   "cell_type": "code",
   "execution_count": null,
   "id": "a9012296-b03f-4a23-8a0d-1815735e06bc",
   "metadata": {},
   "outputs": [],
   "source": []
  }
 ],
 "metadata": {
  "kernelspec": {
   "display_name": "R",
   "language": "R",
   "name": "ir"
  },
  "language_info": {
   "codemirror_mode": "r",
   "file_extension": ".r",
   "mimetype": "text/x-r-source",
   "name": "R",
   "pygments_lexer": "r",
   "version": "4.1.3"
  }
 },
 "nbformat": 4,
 "nbformat_minor": 5
}
