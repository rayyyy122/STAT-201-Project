{
 "cells": [
  {
   "cell_type": "markdown",
   "id": "a56a6247-c6a4-48ed-87f7-3e697e3c0766",
   "metadata": {},
   "source": [
    "STAT 201 Project"
   ]
  },
  {
   "cell_type": "code",
   "execution_count": null,
   "id": "20ccb8fb-f294-46f8-8695-4fa4abada432",
   "metadata": {},
   "outputs": [],
   "source": [
    "Group 11"
   ]
  }
 ],
 "metadata": {
  "kernelspec": {
   "display_name": "R",
   "language": "R",
   "name": "ir"
  },
  "language_info": {
   "codemirror_mode": "r",
   "file_extension": ".r",
   "mimetype": "text/x-r-source",
   "name": "R",
   "pygments_lexer": "r",
   "version": "4.1.3"
  }
 },
 "nbformat": 4,
 "nbformat_minor": 5
}
